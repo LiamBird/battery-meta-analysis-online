{
 "cells": [
  {
   "cell_type": "code",
   "execution_count": 1,
   "id": "2af0cea6-a0b7-48af-978b-7fd996bf9482",
   "metadata": {},
   "outputs": [
    {
     "name": "stdout",
     "output_type": "stream",
     "text": [
      "Note: you may need to restart the kernel to use updated packages.\n",
      "Defaulting to user installation because normal site-packages is not writeableNote: you may need to restart the kernel to use updated packages.\n",
      "\n",
      "Requirement already satisfied: pandas in c:\\users\\engs2608\\appdata\\roaming\\python\\python311\\site-packages (1.5.3)\n",
      "Requirement already satisfied: python-dateutil>=2.8.1 in c:\\programdata\\anaconda3\\lib\\site-packages (from pandas) (2.8.2)\n",
      "Requirement already satisfied: pytz>=2020.1 in c:\\programdata\\anaconda3\\lib\\site-packages (from pandas) (2023.3.post1)\n",
      "Requirement already satisfied: numpy>=1.21.0 in c:\\programdata\\anaconda3\\lib\\site-packages (from pandas) (1.24.3)\n",
      "Requirement already satisfied: six>=1.5 in c:\\programdata\\anaconda3\\lib\\site-packages (from python-dateutil>=2.8.1->pandas) (1.16.0)\n"
     ]
    }
   ],
   "source": [
    "import numpy as np\n",
    "import os\n",
    "import matplotlib.pyplot as plt\n",
    "\n",
    "%pip install -q ipywidgets\n",
    "%pip install pandas\n",
    "\n",
    "import sys\n",
    "# sys.path.append(\"meta-analysis-code\")\n",
    "\n",
    "from MetaChecklist import MetaChecklistTab\n",
    "\n",
    "import pandas as pd"
   ]
  },
  {
   "cell_type": "markdown",
   "id": "c04a9010-4a3d-48e8-9943-012e339d819d",
   "metadata": {},
   "source": [
    "# Checking for duplicates\n",
    "\n",
    "change the DOI value to the DOI of the paper you plan to enter:"
   ]
  },
  {
   "cell_type": "code",
   "execution_count": 3,
   "id": "31a3751b",
   "metadata": {},
   "outputs": [],
   "source": [
    "df = pd.read_csv(\"working_database.csv\", index_col=0)"
   ]
  },
  {
   "cell_type": "code",
   "execution_count": 4,
   "id": "f4214808-8271-4249-b0d1-05ea1f44ff35",
   "metadata": {},
   "outputs": [],
   "source": [
    "test_doi = \"10.1038/nmat2460\""
   ]
  },
  {
   "cell_type": "code",
   "execution_count": 5,
   "id": "a0f5ee40-150a-41b8-b5c5-b64a3b23033b",
   "metadata": {},
   "outputs": [
    {
     "name": "stdout",
     "output_type": "stream",
     "text": [
      "Article already included in database\n"
     ]
    }
   ],
   "source": [
    "## functions for searching for keywords in dataframes\n",
    "def cont_keyword(df, keyword, column, case=True):\n",
    "    return df[df[column].astype(str).str.contains(keyword, case)]\n",
    "\n",
    "doi_present = cont_keyword(df, keyword=test_doi, column=\"Article_DOI\", case=False)\n",
    "if len(doi_present) != 0:\n",
    "    print(\"Article already included in database\")\n",
    "else:\n",
    "    print(\"Article not in database\")"
   ]
  },
  {
   "cell_type": "markdown",
   "id": "2c769a5d-d07b-47ba-a660-6bf37a1ed170",
   "metadata": {},
   "source": [
    "# Data entry\n",
    "\n",
    "Re-run the cell below each time you enter a new paper"
   ]
  },
  {
   "cell_type": "code",
   "execution_count": 6,
   "id": "c20ff825-9ac3-4832-846e-9f0f3de371e1",
   "metadata": {},
   "outputs": [
    {
     "data": {
      "application/vnd.jupyter.widget-view+json": {
       "model_id": "2c89c47e3f874dc1847fc7e2fa95bb37",
       "version_major": 2,
       "version_minor": 0
      },
      "text/plain": [
       "Tab(children=(VBox(children=(HBox(children=(Label(value='Start new data file'), Text(value=''))), HBox(childre…"
      ]
     },
     "execution_count": 6,
     "metadata": {},
     "output_type": "execute_result"
    }
   ],
   "source": [
    "m = MetaChecklistTab()\n",
    "m.tab"
   ]
  },
  {
   "cell_type": "code",
   "execution_count": null,
   "id": "f08e6ebb",
   "metadata": {},
   "outputs": [],
   "source": []
  }
 ],
 "metadata": {
  "kernelspec": {
   "display_name": "Python 3 (ipykernel)",
   "language": "python",
   "name": "python3"
  },
  "language_info": {
   "codemirror_mode": {
    "name": "ipython",
    "version": 3
   },
   "file_extension": ".py",
   "mimetype": "text/x-python",
   "name": "python",
   "nbconvert_exporter": "python",
   "pygments_lexer": "ipython3",
   "version": "3.11.5"
  }
 },
 "nbformat": 4,
 "nbformat_minor": 5
}
