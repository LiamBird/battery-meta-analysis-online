{
  "metadata": {
    "kernelspec": {
      "name": "python",
      "display_name": "Python (Pyodide)",
      "language": "python"
    },
    "language_info": {
      "codemirror_mode": {
        "name": "python",
        "version": 3
      },
      "file_extension": ".py",
      "mimetype": "text/x-python",
      "name": "python",
      "nbconvert_exporter": "python",
      "pygments_lexer": "ipython3",
      "version": "3.8"
    }
  },
  "nbformat_minor": 5,
  "nbformat": 4,
  "cells": [
    {
      "id": "2af0cea6-a0b7-48af-978b-7fd996bf9482",
      "cell_type": "code",
      "source": "import numpy as np\nimport os\nimport matplotlib.pyplot as plt\n\n%pip install -q ipywidgets\n%pip install pandas\n\nimport sys\nsys.path.append(\"meta-analysis-code\")\n\nfrom MetaChecklist import MetaChecklistTab\n\nimport pandas as pd",
      "metadata": {
        "trusted": true
      },
      "outputs": [
        {
          "name": "stderr",
          "output_type": "stream",
          "text": "Matplotlib is building the font cache; this may take a moment.\n"
        }
      ],
      "execution_count": 1
    },
    {
      "id": "8d41df18-a73d-48c0-be47-6bcea0e6a3ec",
      "cell_type": "code",
      "source": "os.getcwd()",
      "metadata": {
        "trusted": true
      },
      "outputs": [
        {
          "execution_count": 2,
          "output_type": "execute_result",
          "data": {
            "text/plain": "'/drive'"
          },
          "metadata": {}
        }
      ],
      "execution_count": 2
    },
    {
      "id": "c04a9010-4a3d-48e8-9943-012e339d819d",
      "cell_type": "markdown",
      "source": "# Checking for duplicates\n\nchange the DOI value to the DOI of the paper you plan to enter:",
      "metadata": {}
    },
    {
      "id": "f4214808-8271-4249-b0d1-05ea1f44ff35",
      "cell_type": "code",
      "source": "test_doi = \"10.1038/nmat2460\"",
      "metadata": {
        "trusted": true
      },
      "outputs": [],
      "execution_count": null
    },
    {
      "id": "a0f5ee40-150a-41b8-b5c5-b64a3b23033b",
      "cell_type": "code",
      "source": "## functions for searching for keywords in dataframes\ndef cont_keyword(df, keyword, column, case=True):\n    return df[df[column].astype(str).str.contains(keyword, case)]\n\ndoi_present = cont_keyword(df, keyword=test_doi, column=\"Article_DOI\", case=False)\nif len(doi_present) != 0:\n    print(\"Article already included in database\")\nelse:\n    print(\"Article not in database\")",
      "metadata": {
        "trusted": true
      },
      "outputs": [],
      "execution_count": null
    },
    {
      "id": "2c769a5d-d07b-47ba-a660-6bf37a1ed170",
      "cell_type": "markdown",
      "source": "# Data entry\n\nRe-run the cell below each time you enter a new paper",
      "metadata": {}
    },
    {
      "id": "c20ff825-9ac3-4832-846e-9f0f3de371e1",
      "cell_type": "code",
      "source": "m = MetaChecklistTab()\nm.tab",
      "metadata": {
        "trusted": true
      },
      "outputs": [],
      "execution_count": null
    }
  ]
}